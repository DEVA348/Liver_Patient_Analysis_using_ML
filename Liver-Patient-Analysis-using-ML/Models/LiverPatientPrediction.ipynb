{
 "cells": [
  {
   "cell_type": "code",
   "execution_count": 1,
   "id": "9a5eed37",
   "metadata": {},
   "outputs": [],
   "source": [
    "import pandas as pd\n",
    "import numpy as np\n",
    "import seaborn as sns\n",
    "import matplotlib.pyplot as plt\n",
    "from matplotlib import rcParams\n",
    "from scipy import stats"
   ]
  },
  {
   "cell_type": "code",
   "execution_count": 2,
   "id": "63d02bcb",
   "metadata": {},
   "outputs": [
    {
     "data": {
      "text/html": [
       "<div>\n",
       "<style scoped>\n",
       "    .dataframe tbody tr th:only-of-type {\n",
       "        vertical-align: middle;\n",
       "    }\n",
       "\n",
       "    .dataframe tbody tr th {\n",
       "        vertical-align: top;\n",
       "    }\n",
       "\n",
       "    .dataframe thead th {\n",
       "        text-align: right;\n",
       "    }\n",
       "</style>\n",
       "<table border=\"1\" class=\"dataframe\">\n",
       "  <thead>\n",
       "    <tr style=\"text-align: right;\">\n",
       "      <th></th>\n",
       "      <th>Age</th>\n",
       "      <th>Gender</th>\n",
       "      <th>Total_Bilirubin</th>\n",
       "      <th>Direct_Bilirubin</th>\n",
       "      <th>Alkaline_Phosphotase</th>\n",
       "      <th>Alamine_Aminotransferase</th>\n",
       "      <th>Aspartate_Aminotransferase</th>\n",
       "      <th>Total_Protiens</th>\n",
       "      <th>Albumin</th>\n",
       "      <th>Albumin_and_Globulin_Ratio</th>\n",
       "      <th>Dataset</th>\n",
       "    </tr>\n",
       "  </thead>\n",
       "  <tbody>\n",
       "    <tr>\n",
       "      <th>0</th>\n",
       "      <td>65</td>\n",
       "      <td>Female</td>\n",
       "      <td>0.7</td>\n",
       "      <td>0.1</td>\n",
       "      <td>187</td>\n",
       "      <td>16</td>\n",
       "      <td>18</td>\n",
       "      <td>6.8</td>\n",
       "      <td>3.3</td>\n",
       "      <td>0.90</td>\n",
       "      <td>1</td>\n",
       "    </tr>\n",
       "    <tr>\n",
       "      <th>1</th>\n",
       "      <td>62</td>\n",
       "      <td>Male</td>\n",
       "      <td>10.9</td>\n",
       "      <td>5.5</td>\n",
       "      <td>699</td>\n",
       "      <td>64</td>\n",
       "      <td>100</td>\n",
       "      <td>7.5</td>\n",
       "      <td>3.2</td>\n",
       "      <td>0.74</td>\n",
       "      <td>1</td>\n",
       "    </tr>\n",
       "    <tr>\n",
       "      <th>2</th>\n",
       "      <td>62</td>\n",
       "      <td>Male</td>\n",
       "      <td>7.3</td>\n",
       "      <td>4.1</td>\n",
       "      <td>490</td>\n",
       "      <td>60</td>\n",
       "      <td>68</td>\n",
       "      <td>7.0</td>\n",
       "      <td>3.3</td>\n",
       "      <td>0.89</td>\n",
       "      <td>1</td>\n",
       "    </tr>\n",
       "    <tr>\n",
       "      <th>3</th>\n",
       "      <td>58</td>\n",
       "      <td>Male</td>\n",
       "      <td>1.0</td>\n",
       "      <td>0.4</td>\n",
       "      <td>182</td>\n",
       "      <td>14</td>\n",
       "      <td>20</td>\n",
       "      <td>6.8</td>\n",
       "      <td>3.4</td>\n",
       "      <td>1.00</td>\n",
       "      <td>1</td>\n",
       "    </tr>\n",
       "    <tr>\n",
       "      <th>4</th>\n",
       "      <td>72</td>\n",
       "      <td>Male</td>\n",
       "      <td>3.9</td>\n",
       "      <td>2.0</td>\n",
       "      <td>195</td>\n",
       "      <td>27</td>\n",
       "      <td>59</td>\n",
       "      <td>7.3</td>\n",
       "      <td>2.4</td>\n",
       "      <td>0.40</td>\n",
       "      <td>1</td>\n",
       "    </tr>\n",
       "  </tbody>\n",
       "</table>\n",
       "</div>"
      ],
      "text/plain": [
       "   Age  Gender  Total_Bilirubin  Direct_Bilirubin  Alkaline_Phosphotase  \\\n",
       "0   65  Female              0.7               0.1                   187   \n",
       "1   62    Male             10.9               5.5                   699   \n",
       "2   62    Male              7.3               4.1                   490   \n",
       "3   58    Male              1.0               0.4                   182   \n",
       "4   72    Male              3.9               2.0                   195   \n",
       "\n",
       "   Alamine_Aminotransferase  Aspartate_Aminotransferase  Total_Protiens  \\\n",
       "0                        16                          18             6.8   \n",
       "1                        64                         100             7.5   \n",
       "2                        60                          68             7.0   \n",
       "3                        14                          20             6.8   \n",
       "4                        27                          59             7.3   \n",
       "\n",
       "   Albumin  Albumin_and_Globulin_Ratio  Dataset  \n",
       "0      3.3                        0.90        1  \n",
       "1      3.2                        0.74        1  \n",
       "2      3.3                        0.89        1  \n",
       "3      3.4                        1.00        1  \n",
       "4      2.4                        0.40        1  "
      ]
     },
     "metadata": {},
     "output_type": "display_data"
    },
    {
     "data": {
      "text/html": [
       "<div>\n",
       "<style scoped>\n",
       "    .dataframe tbody tr th:only-of-type {\n",
       "        vertical-align: middle;\n",
       "    }\n",
       "\n",
       "    .dataframe tbody tr th {\n",
       "        vertical-align: top;\n",
       "    }\n",
       "\n",
       "    .dataframe thead th {\n",
       "        text-align: right;\n",
       "    }\n",
       "</style>\n",
       "<table border=\"1\" class=\"dataframe\">\n",
       "  <thead>\n",
       "    <tr style=\"text-align: right;\">\n",
       "      <th></th>\n",
       "      <th>Age</th>\n",
       "      <th>Gender</th>\n",
       "      <th>Total_Bilirubin</th>\n",
       "      <th>Direct_Bilirubin</th>\n",
       "      <th>Alkaline_Phosphotase</th>\n",
       "      <th>Alamine_Aminotransferase</th>\n",
       "      <th>Aspartate_Aminotransferase</th>\n",
       "      <th>Total_Protiens</th>\n",
       "      <th>Albumin</th>\n",
       "      <th>Albumin_and_Globulin_Ratio</th>\n",
       "      <th>Dataset</th>\n",
       "    </tr>\n",
       "  </thead>\n",
       "  <tbody>\n",
       "    <tr>\n",
       "      <th>578</th>\n",
       "      <td>60</td>\n",
       "      <td>Male</td>\n",
       "      <td>0.5</td>\n",
       "      <td>0.1</td>\n",
       "      <td>500</td>\n",
       "      <td>20</td>\n",
       "      <td>34</td>\n",
       "      <td>5.9</td>\n",
       "      <td>1.6</td>\n",
       "      <td>0.37</td>\n",
       "      <td>2</td>\n",
       "    </tr>\n",
       "    <tr>\n",
       "      <th>579</th>\n",
       "      <td>40</td>\n",
       "      <td>Male</td>\n",
       "      <td>0.6</td>\n",
       "      <td>0.1</td>\n",
       "      <td>98</td>\n",
       "      <td>35</td>\n",
       "      <td>31</td>\n",
       "      <td>6.0</td>\n",
       "      <td>3.2</td>\n",
       "      <td>1.10</td>\n",
       "      <td>1</td>\n",
       "    </tr>\n",
       "    <tr>\n",
       "      <th>580</th>\n",
       "      <td>52</td>\n",
       "      <td>Male</td>\n",
       "      <td>0.8</td>\n",
       "      <td>0.2</td>\n",
       "      <td>245</td>\n",
       "      <td>48</td>\n",
       "      <td>49</td>\n",
       "      <td>6.4</td>\n",
       "      <td>3.2</td>\n",
       "      <td>1.00</td>\n",
       "      <td>1</td>\n",
       "    </tr>\n",
       "    <tr>\n",
       "      <th>581</th>\n",
       "      <td>31</td>\n",
       "      <td>Male</td>\n",
       "      <td>1.3</td>\n",
       "      <td>0.5</td>\n",
       "      <td>184</td>\n",
       "      <td>29</td>\n",
       "      <td>32</td>\n",
       "      <td>6.8</td>\n",
       "      <td>3.4</td>\n",
       "      <td>1.00</td>\n",
       "      <td>1</td>\n",
       "    </tr>\n",
       "    <tr>\n",
       "      <th>582</th>\n",
       "      <td>38</td>\n",
       "      <td>Male</td>\n",
       "      <td>1.0</td>\n",
       "      <td>0.3</td>\n",
       "      <td>216</td>\n",
       "      <td>21</td>\n",
       "      <td>24</td>\n",
       "      <td>7.3</td>\n",
       "      <td>4.4</td>\n",
       "      <td>1.50</td>\n",
       "      <td>2</td>\n",
       "    </tr>\n",
       "  </tbody>\n",
       "</table>\n",
       "</div>"
      ],
      "text/plain": [
       "     Age Gender  Total_Bilirubin  Direct_Bilirubin  Alkaline_Phosphotase  \\\n",
       "578   60   Male              0.5               0.1                   500   \n",
       "579   40   Male              0.6               0.1                    98   \n",
       "580   52   Male              0.8               0.2                   245   \n",
       "581   31   Male              1.3               0.5                   184   \n",
       "582   38   Male              1.0               0.3                   216   \n",
       "\n",
       "     Alamine_Aminotransferase  Aspartate_Aminotransferase  Total_Protiens  \\\n",
       "578                        20                          34             5.9   \n",
       "579                        35                          31             6.0   \n",
       "580                        48                          49             6.4   \n",
       "581                        29                          32             6.8   \n",
       "582                        21                          24             7.3   \n",
       "\n",
       "     Albumin  Albumin_and_Globulin_Ratio  Dataset  \n",
       "578      1.6                        0.37        2  \n",
       "579      3.2                        1.10        1  \n",
       "580      3.2                        1.00        1  \n",
       "581      3.4                        1.00        1  \n",
       "582      4.4                        1.50        2  "
      ]
     },
     "metadata": {},
     "output_type": "display_data"
    }
   ],
   "source": [
    "data=pd.read_csv(\"indian_liver_patient.csv\")\n",
    "display(data.head())\n",
    "display(data.tail())"
   ]
  },
  {
   "cell_type": "code",
   "execution_count": 3,
   "id": "0d46b794",
   "metadata": {},
   "outputs": [
    {
     "data": {
      "text/plain": [
       "(583, 11)"
      ]
     },
     "execution_count": 3,
     "metadata": {},
     "output_type": "execute_result"
    }
   ],
   "source": [
    "data.shape"
   ]
  },
  {
   "cell_type": "code",
   "execution_count": 4,
   "id": "0e3495fa",
   "metadata": {},
   "outputs": [
    {
     "name": "stdout",
     "output_type": "stream",
     "text": [
      "<class 'pandas.core.frame.DataFrame'>\n",
      "RangeIndex: 583 entries, 0 to 582\n",
      "Data columns (total 11 columns):\n",
      " #   Column                      Non-Null Count  Dtype  \n",
      "---  ------                      --------------  -----  \n",
      " 0   Age                         583 non-null    int64  \n",
      " 1   Gender                      583 non-null    object \n",
      " 2   Total_Bilirubin             583 non-null    float64\n",
      " 3   Direct_Bilirubin            583 non-null    float64\n",
      " 4   Alkaline_Phosphotase        583 non-null    int64  \n",
      " 5   Alamine_Aminotransferase    583 non-null    int64  \n",
      " 6   Aspartate_Aminotransferase  583 non-null    int64  \n",
      " 7   Total_Protiens              583 non-null    float64\n",
      " 8   Albumin                     583 non-null    float64\n",
      " 9   Albumin_and_Globulin_Ratio  579 non-null    float64\n",
      " 10  Dataset                     583 non-null    int64  \n",
      "dtypes: float64(5), int64(5), object(1)\n",
      "memory usage: 50.2+ KB\n"
     ]
    }
   ],
   "source": [
    "data.info()"
   ]
  },
  {
   "cell_type": "code",
   "execution_count": 5,
   "id": "80ae9d90",
   "metadata": {},
   "outputs": [
    {
     "data": {
      "text/plain": [
       "Age                           False\n",
       "Gender                        False\n",
       "Total_Bilirubin               False\n",
       "Direct_Bilirubin              False\n",
       "Alkaline_Phosphotase          False\n",
       "Alamine_Aminotransferase      False\n",
       "Aspartate_Aminotransferase    False\n",
       "Total_Protiens                False\n",
       "Albumin                       False\n",
       "Albumin_and_Globulin_Ratio     True\n",
       "Dataset                       False\n",
       "dtype: bool"
      ]
     },
     "execution_count": 5,
     "metadata": {},
     "output_type": "execute_result"
    }
   ],
   "source": [
    "data.isnull().any()"
   ]
  },
  {
   "cell_type": "code",
   "execution_count": 6,
   "id": "4bd237a2",
   "metadata": {},
   "outputs": [
    {
     "data": {
      "text/plain": [
       "Age                           0\n",
       "Gender                        0\n",
       "Total_Bilirubin               0\n",
       "Direct_Bilirubin              0\n",
       "Alkaline_Phosphotase          0\n",
       "Alamine_Aminotransferase      0\n",
       "Aspartate_Aminotransferase    0\n",
       "Total_Protiens                0\n",
       "Albumin                       0\n",
       "Albumin_and_Globulin_Ratio    4\n",
       "Dataset                       0\n",
       "dtype: int64"
      ]
     },
     "execution_count": 6,
     "metadata": {},
     "output_type": "execute_result"
    }
   ],
   "source": [
    "data.isnull().sum()"
   ]
  },
  {
   "cell_type": "code",
   "execution_count": 7,
   "id": "36017670",
   "metadata": {},
   "outputs": [
    {
     "data": {
      "text/plain": [
       "Age                           0\n",
       "Gender                        0\n",
       "Total_Bilirubin               0\n",
       "Direct_Bilirubin              0\n",
       "Alkaline_Phosphotase          0\n",
       "Alamine_Aminotransferase      0\n",
       "Aspartate_Aminotransferase    0\n",
       "Total_Protiens                0\n",
       "Albumin                       0\n",
       "Albumin_and_Globulin_Ratio    0\n",
       "Dataset                       0\n",
       "dtype: int64"
      ]
     },
     "execution_count": 7,
     "metadata": {},
     "output_type": "execute_result"
    }
   ],
   "source": [
    "data['Albumin_and_Globulin_Ratio'].fillna(data['Albumin_and_Globulin_Ratio'].mode()[0],inplace=True)\n",
    "data.isnull().sum()"
   ]
  },
  {
   "cell_type": "code",
   "execution_count": 8,
   "id": "96c585c1",
   "metadata": {},
   "outputs": [],
   "source": [
    "from sklearn.preprocessing import LabelEncoder \n",
    "lc = LabelEncoder()\n",
    "data['Gender']=lc.fit_transform(data['Gender'])"
   ]
  },
  {
   "cell_type": "code",
   "execution_count": 9,
   "id": "c01318d4",
   "metadata": {},
   "outputs": [
    {
     "data": {
      "text/html": [
       "<div>\n",
       "<style scoped>\n",
       "    .dataframe tbody tr th:only-of-type {\n",
       "        vertical-align: middle;\n",
       "    }\n",
       "\n",
       "    .dataframe tbody tr th {\n",
       "        vertical-align: top;\n",
       "    }\n",
       "\n",
       "    .dataframe thead th {\n",
       "        text-align: right;\n",
       "    }\n",
       "</style>\n",
       "<table border=\"1\" class=\"dataframe\">\n",
       "  <thead>\n",
       "    <tr style=\"text-align: right;\">\n",
       "      <th></th>\n",
       "      <th>Age</th>\n",
       "      <th>Gender</th>\n",
       "      <th>Total_Bilirubin</th>\n",
       "      <th>Direct_Bilirubin</th>\n",
       "      <th>Alkaline_Phosphotase</th>\n",
       "      <th>Alamine_Aminotransferase</th>\n",
       "      <th>Aspartate_Aminotransferase</th>\n",
       "      <th>Total_Protiens</th>\n",
       "      <th>Albumin</th>\n",
       "      <th>Albumin_and_Globulin_Ratio</th>\n",
       "      <th>Dataset</th>\n",
       "    </tr>\n",
       "  </thead>\n",
       "  <tbody>\n",
       "    <tr>\n",
       "      <th>count</th>\n",
       "      <td>583.000000</td>\n",
       "      <td>583.000000</td>\n",
       "      <td>583.000000</td>\n",
       "      <td>583.000000</td>\n",
       "      <td>583.000000</td>\n",
       "      <td>583.000000</td>\n",
       "      <td>583.000000</td>\n",
       "      <td>583.000000</td>\n",
       "      <td>583.000000</td>\n",
       "      <td>583.000000</td>\n",
       "      <td>583.000000</td>\n",
       "    </tr>\n",
       "    <tr>\n",
       "      <th>mean</th>\n",
       "      <td>44.746141</td>\n",
       "      <td>0.756432</td>\n",
       "      <td>3.298799</td>\n",
       "      <td>1.486106</td>\n",
       "      <td>290.576329</td>\n",
       "      <td>80.713551</td>\n",
       "      <td>109.910806</td>\n",
       "      <td>6.483190</td>\n",
       "      <td>3.141852</td>\n",
       "      <td>0.947427</td>\n",
       "      <td>1.286449</td>\n",
       "    </tr>\n",
       "    <tr>\n",
       "      <th>std</th>\n",
       "      <td>16.189833</td>\n",
       "      <td>0.429603</td>\n",
       "      <td>6.209522</td>\n",
       "      <td>2.808498</td>\n",
       "      <td>242.937989</td>\n",
       "      <td>182.620356</td>\n",
       "      <td>288.918529</td>\n",
       "      <td>1.085451</td>\n",
       "      <td>0.795519</td>\n",
       "      <td>0.318522</td>\n",
       "      <td>0.452490</td>\n",
       "    </tr>\n",
       "    <tr>\n",
       "      <th>min</th>\n",
       "      <td>4.000000</td>\n",
       "      <td>0.000000</td>\n",
       "      <td>0.400000</td>\n",
       "      <td>0.100000</td>\n",
       "      <td>63.000000</td>\n",
       "      <td>10.000000</td>\n",
       "      <td>10.000000</td>\n",
       "      <td>2.700000</td>\n",
       "      <td>0.900000</td>\n",
       "      <td>0.300000</td>\n",
       "      <td>1.000000</td>\n",
       "    </tr>\n",
       "    <tr>\n",
       "      <th>25%</th>\n",
       "      <td>33.000000</td>\n",
       "      <td>1.000000</td>\n",
       "      <td>0.800000</td>\n",
       "      <td>0.200000</td>\n",
       "      <td>175.500000</td>\n",
       "      <td>23.000000</td>\n",
       "      <td>25.000000</td>\n",
       "      <td>5.800000</td>\n",
       "      <td>2.600000</td>\n",
       "      <td>0.700000</td>\n",
       "      <td>1.000000</td>\n",
       "    </tr>\n",
       "    <tr>\n",
       "      <th>50%</th>\n",
       "      <td>45.000000</td>\n",
       "      <td>1.000000</td>\n",
       "      <td>1.000000</td>\n",
       "      <td>0.300000</td>\n",
       "      <td>208.000000</td>\n",
       "      <td>35.000000</td>\n",
       "      <td>42.000000</td>\n",
       "      <td>6.600000</td>\n",
       "      <td>3.100000</td>\n",
       "      <td>0.950000</td>\n",
       "      <td>1.000000</td>\n",
       "    </tr>\n",
       "    <tr>\n",
       "      <th>75%</th>\n",
       "      <td>58.000000</td>\n",
       "      <td>1.000000</td>\n",
       "      <td>2.600000</td>\n",
       "      <td>1.300000</td>\n",
       "      <td>298.000000</td>\n",
       "      <td>60.500000</td>\n",
       "      <td>87.000000</td>\n",
       "      <td>7.200000</td>\n",
       "      <td>3.800000</td>\n",
       "      <td>1.100000</td>\n",
       "      <td>2.000000</td>\n",
       "    </tr>\n",
       "    <tr>\n",
       "      <th>max</th>\n",
       "      <td>90.000000</td>\n",
       "      <td>1.000000</td>\n",
       "      <td>75.000000</td>\n",
       "      <td>19.700000</td>\n",
       "      <td>2110.000000</td>\n",
       "      <td>2000.000000</td>\n",
       "      <td>4929.000000</td>\n",
       "      <td>9.600000</td>\n",
       "      <td>5.500000</td>\n",
       "      <td>2.800000</td>\n",
       "      <td>2.000000</td>\n",
       "    </tr>\n",
       "  </tbody>\n",
       "</table>\n",
       "</div>"
      ],
      "text/plain": [
       "              Age      Gender  Total_Bilirubin  Direct_Bilirubin  \\\n",
       "count  583.000000  583.000000       583.000000        583.000000   \n",
       "mean    44.746141    0.756432         3.298799          1.486106   \n",
       "std     16.189833    0.429603         6.209522          2.808498   \n",
       "min      4.000000    0.000000         0.400000          0.100000   \n",
       "25%     33.000000    1.000000         0.800000          0.200000   \n",
       "50%     45.000000    1.000000         1.000000          0.300000   \n",
       "75%     58.000000    1.000000         2.600000          1.300000   \n",
       "max     90.000000    1.000000        75.000000         19.700000   \n",
       "\n",
       "       Alkaline_Phosphotase  Alamine_Aminotransferase  \\\n",
       "count            583.000000                583.000000   \n",
       "mean             290.576329                 80.713551   \n",
       "std              242.937989                182.620356   \n",
       "min               63.000000                 10.000000   \n",
       "25%              175.500000                 23.000000   \n",
       "50%              208.000000                 35.000000   \n",
       "75%              298.000000                 60.500000   \n",
       "max             2110.000000               2000.000000   \n",
       "\n",
       "       Aspartate_Aminotransferase  Total_Protiens     Albumin  \\\n",
       "count                  583.000000      583.000000  583.000000   \n",
       "mean                   109.910806        6.483190    3.141852   \n",
       "std                    288.918529        1.085451    0.795519   \n",
       "min                     10.000000        2.700000    0.900000   \n",
       "25%                     25.000000        5.800000    2.600000   \n",
       "50%                     42.000000        6.600000    3.100000   \n",
       "75%                     87.000000        7.200000    3.800000   \n",
       "max                   4929.000000        9.600000    5.500000   \n",
       "\n",
       "       Albumin_and_Globulin_Ratio     Dataset  \n",
       "count                  583.000000  583.000000  \n",
       "mean                     0.947427    1.286449  \n",
       "std                      0.318522    0.452490  \n",
       "min                      0.300000    1.000000  \n",
       "25%                      0.700000    1.000000  \n",
       "50%                      0.950000    1.000000  \n",
       "75%                      1.100000    2.000000  \n",
       "max                      2.800000    2.000000  "
      ]
     },
     "execution_count": 9,
     "metadata": {},
     "output_type": "execute_result"
    }
   ],
   "source": [
    "data.describe()"
   ]
  },
  {
   "cell_type": "code",
   "execution_count": 10,
   "id": "433dfc95",
   "metadata": {},
   "outputs": [
    {
     "name": "stderr",
     "output_type": "stream",
     "text": [
      "C:\\Users\\DEVIL\\anaconda3\\lib\\site-packages\\seaborn\\distributions.py:2619: FutureWarning: `distplot` is a deprecated function and will be removed in a future version. Please adapt your code to use either `displot` (a figure-level function with similar flexibility) or `histplot` (an axes-level function for histograms).\n",
      "  warnings.warn(msg, FutureWarning)\n"
     ]
    },
    {
     "data": {
      "image/png": "[encoded data removed]",
      "text/plain": [
       "<Figure size 640x480 with 1 Axes>"
      ]
     },
     "metadata": {},
     "output_type": "display_data"
    }
   ],
   "source": [
    "sns.distplot(data['Age'])\n",
    "plt.title('Age Distribution Graph')\n",
    "plt.show()"
   ]
  },
  {
   "cell_type": "code",
   "execution_count": 11,
   "id": "14b1fd7d",
   "metadata": {},
   "outputs": [
    {
     "name": "stderr",
     "output_type": "stream",
     "text": [
      "C:\\Users\\DEVIL\\anaconda3\\lib\\site-packages\\seaborn\\_decorators.py:36: FutureWarning: Pass the following variable as a keyword arg: x. From version 0.12, the only valid positional argument will be `data`, and passing other arguments without an explicit keyword will result in an error or misinterpretation.\n",
      "  warnings.warn(\n"
     ]
    },
    {
     "data": {
      "text/plain": [
       "<AxesSubplot:xlabel='Dataset', ylabel='count'>"
      ]
     },
     "execution_count": 11,
     "metadata": {},
     "output_type": "execute_result"
    },
    {
     "data": {
      "image/png": "[encoded data removed]",
      "text/plain": [
       "<Figure size 640x480 with 1 Axes>"
      ]
     },
     "metadata": {},
     "output_type": "display_data"
    }
   ],
   "source": [
    "sns.countplot(data['Dataset'], hue=data['Gender'])"
   ]
  },
  {
   "cell_type": "code",
   "execution_count": 12,
   "id": "fc9ee207",
   "metadata": {},
   "outputs": [
    {
     "data": {
      "text/plain": [
       "<AxesSubplot:>"
      ]
     },
     "execution_count": 12,
     "metadata": {},
     "output_type": "execute_result"
    },
    {
     "data": {
      "image/png": "[encoded data removed]",
      "text/plain": [
       "<Figure size 1000x700 with 2 Axes>"
      ]
     },
     "metadata": {},
     "output_type": "display_data"
    }
   ],
   "source": [
    "plt.figure(figsize=(10,7))\n",
    "sns.heatmap(data.corr(),annot=True)"
   ]
  },
  {
   "cell_type": "code",
   "execution_count": 13,
   "id": "121953aa",
   "metadata": {},
   "outputs": [],
   "source": [
    "X=data.iloc[:,:-1]\n",
    "y=data.Dataset"
   ]
  },
  {
   "cell_type": "code",
   "execution_count": 14,
   "id": "53d51ae9",
   "metadata": {},
   "outputs": [],
   "source": [
    "from sklearn.preprocessing import scale \n",
    "X_scaled=pd.DataFrame (scale(X), columns=X.columns)"
   ]
  },
  {
   "cell_type": "code",
   "execution_count": 15,
   "id": "9e976673",
   "metadata": {},
   "outputs": [
    {
     "data": {
      "text/html": [
       "<div>\n",
       "<style scoped>\n",
       "    .dataframe tbody tr th:only-of-type {\n",
       "        vertical-align: middle;\n",
       "    }\n",
       "\n",
       "    .dataframe tbody tr th {\n",
       "        vertical-align: top;\n",
       "    }\n",
       "\n",
       "    .dataframe thead th {\n",
       "        text-align: right;\n",
       "    }\n",
       "</style>\n",
       "<table border=\"1\" class=\"dataframe\">\n",
       "  <thead>\n",
       "    <tr style=\"text-align: right;\">\n",
       "      <th></th>\n",
       "      <th>Age</th>\n",
       "      <th>Gender</th>\n",
       "      <th>Total_Bilirubin</th>\n",
       "      <th>Direct_Bilirubin</th>\n",
       "      <th>Alkaline_Phosphotase</th>\n",
       "      <th>Alamine_Aminotransferase</th>\n",
       "      <th>Aspartate_Aminotransferase</th>\n",
       "      <th>Total_Protiens</th>\n",
       "      <th>Albumin</th>\n",
       "      <th>Albumin_and_Globulin_Ratio</th>\n",
       "    </tr>\n",
       "  </thead>\n",
       "  <tbody>\n",
       "    <tr>\n",
       "      <th>0</th>\n",
       "      <td>1.252098</td>\n",
       "      <td>-1.762281</td>\n",
       "      <td>-0.418878</td>\n",
       "      <td>-0.493964</td>\n",
       "      <td>-0.426715</td>\n",
       "      <td>-0.354665</td>\n",
       "      <td>-0.318393</td>\n",
       "      <td>0.292120</td>\n",
       "      <td>0.198969</td>\n",
       "      <td>-0.149025</td>\n",
       "    </tr>\n",
       "    <tr>\n",
       "      <th>1</th>\n",
       "      <td>1.066637</td>\n",
       "      <td>0.567446</td>\n",
       "      <td>1.225171</td>\n",
       "      <td>1.430423</td>\n",
       "      <td>1.682629</td>\n",
       "      <td>-0.091599</td>\n",
       "      <td>-0.034333</td>\n",
       "      <td>0.937566</td>\n",
       "      <td>0.073157</td>\n",
       "      <td>-0.651777</td>\n",
       "    </tr>\n",
       "    <tr>\n",
       "      <th>2</th>\n",
       "      <td>1.066637</td>\n",
       "      <td>0.567446</td>\n",
       "      <td>0.644919</td>\n",
       "      <td>0.931508</td>\n",
       "      <td>0.821588</td>\n",
       "      <td>-0.113522</td>\n",
       "      <td>-0.145186</td>\n",
       "      <td>0.476533</td>\n",
       "      <td>0.198969</td>\n",
       "      <td>-0.180447</td>\n",
       "    </tr>\n",
       "    <tr>\n",
       "      <th>3</th>\n",
       "      <td>0.819356</td>\n",
       "      <td>0.567446</td>\n",
       "      <td>-0.370523</td>\n",
       "      <td>-0.387054</td>\n",
       "      <td>-0.447314</td>\n",
       "      <td>-0.365626</td>\n",
       "      <td>-0.311465</td>\n",
       "      <td>0.292120</td>\n",
       "      <td>0.324781</td>\n",
       "      <td>0.165194</td>\n",
       "    </tr>\n",
       "    <tr>\n",
       "      <th>4</th>\n",
       "      <td>1.684839</td>\n",
       "      <td>0.567446</td>\n",
       "      <td>0.096902</td>\n",
       "      <td>0.183135</td>\n",
       "      <td>-0.393756</td>\n",
       "      <td>-0.294379</td>\n",
       "      <td>-0.176363</td>\n",
       "      <td>0.753153</td>\n",
       "      <td>-0.933340</td>\n",
       "      <td>-1.720124</td>\n",
       "    </tr>\n",
       "  </tbody>\n",
       "</table>\n",
       "</div>"
      ],
      "text/plain": [
       "        Age    Gender  Total_Bilirubin  Direct_Bilirubin  \\\n",
       "0  1.252098 -1.762281        -0.418878         -0.493964   \n",
       "1  1.066637  0.567446         1.225171          1.430423   \n",
       "2  1.066637  0.567446         0.644919          0.931508   \n",
       "3  0.819356  0.567446        -0.370523         -0.387054   \n",
       "4  1.684839  0.567446         0.096902          0.183135   \n",
       "\n",
       "   Alkaline_Phosphotase  Alamine_Aminotransferase  Aspartate_Aminotransferase  \\\n",
       "0             -0.426715                 -0.354665                   -0.318393   \n",
       "1              1.682629                 -0.091599                   -0.034333   \n",
       "2              0.821588                 -0.113522                   -0.145186   \n",
       "3             -0.447314                 -0.365626                   -0.311465   \n",
       "4             -0.393756                 -0.294379                   -0.176363   \n",
       "\n",
       "   Total_Protiens   Albumin  Albumin_and_Globulin_Ratio  \n",
       "0        0.292120  0.198969                   -0.149025  \n",
       "1        0.937566  0.073157                   -0.651777  \n",
       "2        0.476533  0.198969                   -0.180447  \n",
       "3        0.292120  0.324781                    0.165194  \n",
       "4        0.753153 -0.933340                   -1.720124  "
      ]
     },
     "execution_count": 15,
     "metadata": {},
     "output_type": "execute_result"
    }
   ],
   "source": [
    "X_scaled.head()"
   ]
  },
  {
   "cell_type": "code",
   "execution_count": 16,
   "id": "c2d260a1",
   "metadata": {},
   "outputs": [],
   "source": [
    "from sklearn.model_selection import train_test_split\n",
    "X_train, X_test, y_train, y_test = train_test_split(X_scaled,y, test_size=0.2,random_state=12)"
   ]
  },
  {
   "cell_type": "code",
   "execution_count": 17,
   "id": "1e7c5650",
   "metadata": {},
   "outputs": [],
   "source": [
    "from imblearn.over_sampling import SMOTE\n",
    "smote = SMOTE()"
   ]
  },
  {
   "cell_type": "code",
   "execution_count": 18,
   "id": "a6246b06",
   "metadata": {},
   "outputs": [
    {
     "data": {
      "text/plain": [
       "1    328\n",
       "2    138\n",
       "Name: Dataset, dtype: int64"
      ]
     },
     "execution_count": 18,
     "metadata": {},
     "output_type": "execute_result"
    }
   ],
   "source": [
    "y_train.value_counts()"
   ]
  },
  {
   "cell_type": "code",
   "execution_count": 19,
   "id": "cf06f492",
   "metadata": {},
   "outputs": [],
   "source": [
    "X_train_smote, y_train_smote = smote.fit_resample(X_train, y_train)"
   ]
  },
  {
   "cell_type": "code",
   "execution_count": 20,
   "id": "e86a90d6",
   "metadata": {},
   "outputs": [
    {
     "data": {
      "text/plain": [
       "1    328\n",
       "2    328\n",
       "Name: Dataset, dtype: int64"
      ]
     },
     "execution_count": 20,
     "metadata": {},
     "output_type": "execute_result"
    }
   ],
   "source": [
    "y_train_smote.value_counts()"
   ]
  },
  {
   "cell_type": "code",
   "execution_count": 21,
   "id": "b57b5e0e",
   "metadata": {},
   "outputs": [
    {
     "name": "stdout",
     "output_type": "stream",
     "text": [
      "              precision    recall  f1-score   support\n",
      "\n",
      "           1       0.82      0.73      0.77        88\n",
      "           2       0.38      0.52      0.44        29\n",
      "\n",
      "    accuracy                           0.68       117\n",
      "   macro avg       0.60      0.62      0.61       117\n",
      "weighted avg       0.71      0.68      0.69       117\n",
      "\n"
     ]
    }
   ],
   "source": [
    "from sklearn.ensemble import RandomForestClassifier\n",
    "from sklearn.metrics import accuracy_score\n",
    "from sklearn.metrics import classification_report\n",
    "model1=RandomForestClassifier()\n",
    "model1.fit(X_train_smote, y_train_smote)\n",
    "y_predict = model1.predict(X_test)\n",
    "rfc1=accuracy_score(y_test,y_predict)\n",
    "rfc1\n",
    "pd.crosstab(y_test, y_predict)\n",
    "print(classification_report (y_test, y_predict))"
   ]
  },
  {
   "cell_type": "code",
   "execution_count": 22,
   "id": "50b187a8",
   "metadata": {},
   "outputs": [
    {
     "name": "stdout",
     "output_type": "stream",
     "text": [
      "              precision    recall  f1-score   support\n",
      "\n",
      "           1       0.77      0.69      0.73        88\n",
      "           2       0.29      0.38      0.33        29\n",
      "\n",
      "    accuracy                           0.62       117\n",
      "   macro avg       0.53      0.54      0.53       117\n",
      "weighted avg       0.65      0.62      0.63       117\n",
      "\n"
     ]
    }
   ],
   "source": [
    "from sklearn.tree import DecisionTreeClassifier \n",
    "model4 = DecisionTreeClassifier()\n",
    "model4.fit(X_train_smote, y_train_smote)\n",
    "y_predict=model4.predict(X_test) \n",
    "dtc1=accuracy_score(y_test,y_predict)\n",
    "dtc1\n",
    "pd.crosstab(y_test,y_predict) \n",
    "print(classification_report(y_test, y_predict))"
   ]
  },
  {
   "cell_type": "code",
   "execution_count": 23,
   "id": "ea5ca8b6",
   "metadata": {},
   "outputs": [
    {
     "name": "stdout",
     "output_type": "stream",
     "text": [
      "              precision    recall  f1-score   support\n",
      "\n",
      "           1       0.83      0.56      0.67        88\n",
      "           2       0.33      0.66      0.44        29\n",
      "\n",
      "    accuracy                           0.58       117\n",
      "   macro avg       0.58      0.61      0.55       117\n",
      "weighted avg       0.71      0.58      0.61       117\n",
      "\n"
     ]
    },
    {
     "name": "stderr",
     "output_type": "stream",
     "text": [
      "C:\\Users\\DEVIL\\anaconda3\\lib\\site-packages\\sklearn\\neighbors\\_classification.py:228: FutureWarning: Unlike other reduction functions (e.g. `skew`, `kurtosis`), the default behavior of `mode` typically preserves the axis it acts along. In SciPy 1.11.0, this behavior will change: the default value of `keepdims` will become False, the `axis` over which the statistic is taken will be eliminated, and the value None will no longer be accepted. Set `keepdims` to True or False to avoid this warning.\n",
      "  mode, _ = stats.mode(_y[neigh_ind, k], axis=1)\n"
     ]
    }
   ],
   "source": [
    "from sklearn.neighbors import KNeighborsClassifier\n",
    "model2=KNeighborsClassifier() \n",
    "model2.fit(X_train_smote, y_train_smote) \n",
    "y_predict = model2.predict(X_test) \n",
    "knn1=(accuracy_score (y_test, y_predict))\n",
    "knn1 \n",
    "pd.crosstab(y_test,y_predict) \n",
    "print(classification_report (y_test, y_predict))"
   ]
  },
  {
   "cell_type": "code",
   "execution_count": 24,
   "id": "4055b7ae",
   "metadata": {},
   "outputs": [
    {
     "name": "stdout",
     "output_type": "stream",
     "text": [
      "              precision    recall  f1-score   support\n",
      "\n",
      "           1       0.94      0.51      0.66        88\n",
      "           2       0.38      0.90      0.53        29\n",
      "\n",
      "    accuracy                           0.61       117\n",
      "   macro avg       0.66      0.70      0.60       117\n",
      "weighted avg       0.80      0.61      0.63       117\n",
      "\n"
     ]
    }
   ],
   "source": [
    "from sklearn.linear_model import LogisticRegression \n",
    "model5=LogisticRegression() \n",
    "model5.fit(X_train_smote, y_train_smote)\n",
    "y_predict=model5.predict(X_test) \n",
    "logi1=accuracy_score(y_test, y_predict)\n",
    "logi1\n",
    "pd.crosstab(y_test,y_predict) \n",
    "print(classification_report (y_test, y_predict))"
   ]
  },
  {
   "cell_type": "code",
   "execution_count": 25,
   "id": "6a3e7f39",
   "metadata": {},
   "outputs": [],
   "source": [
    "import tensorflow.keras\n",
    "from  tensorflow.keras.models import Sequential\n",
    "from  tensorflow.keras.layers import Dense"
   ]
  },
  {
   "cell_type": "code",
   "execution_count": 26,
   "id": "9f4039ab",
   "metadata": {
    "scrolled": false
   },
   "outputs": [
    {
     "name": "stdout",
     "output_type": "stream",
     "text": [
      "Epoch 1/100\n",
      "4/4 [==============================] - 6s 292ms/step - loss: 1.0012 - accuracy: 0.0027 - val_loss: 0.8586 - val_accuracy: 0.0638\n",
      "Epoch 2/100\n",
      "4/4 [==============================] - 0s 42ms/step - loss: 0.7599 - accuracy: 0.2339 - val_loss: 0.6218 - val_accuracy: 0.5319\n",
      "Epoch 3/100\n",
      "4/4 [==============================] - 0s 39ms/step - loss: 0.5569 - accuracy: 0.6478 - val_loss: 0.4276 - val_accuracy: 0.6809\n",
      "Epoch 4/100\n",
      "4/4 [==============================] - 0s 38ms/step - loss: 0.3915 - accuracy: 0.7070 - val_loss: 0.2566 - val_accuracy: 0.6809\n",
      "Epoch 5/100\n",
      "4/4 [==============================] - 0s 40ms/step - loss: 0.2408 - accuracy: 0.7097 - val_loss: 0.0926 - val_accuracy: 0.6809\n",
      "Epoch 6/100\n",
      "4/4 [==============================] - 0s 39ms/step - loss: 0.0933 - accuracy: 0.7097 - val_loss: -0.0684 - val_accuracy: 0.6809\n",
      "Epoch 7/100\n",
      "4/4 [==============================] - 0s 38ms/step - loss: -0.0543 - accuracy: 0.7097 - val_loss: -0.2299 - val_accuracy: 0.6809\n",
      "Epoch 8/100\n",
      "4/4 [==============================] - 0s 40ms/step - loss: -0.1996 - accuracy: 0.7097 - val_loss: -0.3923 - val_accuracy: 0.6809\n",
      "Epoch 9/100\n",
      "4/4 [==============================] - 0s 40ms/step - loss: -0.3512 - accuracy: 0.7097 - val_loss: -0.5588 - val_accuracy: 0.6809\n",
      "Epoch 10/100\n",
      "4/4 [==============================] - 0s 37ms/step - loss: -0.5028 - accuracy: 0.7097 - val_loss: -0.7356 - val_accuracy: 0.6809\n",
      "Epoch 11/100\n",
      "4/4 [==============================] - 0s 41ms/step - loss: -0.6673 - accuracy: 0.7097 - val_loss: -0.9190 - val_accuracy: 0.6809\n",
      "Epoch 12/100\n",
      "4/4 [==============================] - 0s 40ms/step - loss: -0.8241 - accuracy: 0.7097 - val_loss: -1.1146 - val_accuracy: 0.6809\n",
      "Epoch 13/100\n",
      "4/4 [==============================] - 0s 45ms/step - loss: -1.0050 - accuracy: 0.7097 - val_loss: -1.3224 - val_accuracy: 0.6809\n",
      "Epoch 14/100\n",
      "4/4 [==============================] - 0s 32ms/step - loss: -1.1869 - accuracy: 0.7097 - val_loss: -1.5496 - val_accuracy: 0.6809\n",
      "Epoch 15/100\n",
      "4/4 [==============================] - 0s 41ms/step - loss: -1.4003 - accuracy: 0.7097 - val_loss: -1.7968 - val_accuracy: 0.6809\n",
      "Epoch 16/100\n",
      "4/4 [==============================] - 0s 38ms/step - loss: -1.6103 - accuracy: 0.7097 - val_loss: -2.0784 - val_accuracy: 0.6809\n",
      "Epoch 17/100\n",
      "4/4 [==============================] - 0s 40ms/step - loss: -1.8733 - accuracy: 0.7097 - val_loss: -2.3900 - val_accuracy: 0.6809\n",
      "Epoch 18/100\n",
      "4/4 [==============================] - 0s 41ms/step - loss: -2.1469 - accuracy: 0.7097 - val_loss: -2.7457 - val_accuracy: 0.6809\n",
      "Epoch 19/100\n",
      "4/4 [==============================] - 0s 37ms/step - loss: -2.4699 - accuracy: 0.7097 - val_loss: -3.1479 - val_accuracy: 0.6809\n",
      "Epoch 20/100\n",
      "4/4 [==============================] - 0s 39ms/step - loss: -2.8526 - accuracy: 0.7097 - val_loss: -3.5972 - val_accuracy: 0.6809\n",
      "Epoch 21/100\n",
      "4/4 [==============================] - 0s 36ms/step - loss: -3.2654 - accuracy: 0.7097 - val_loss: -4.1092 - val_accuracy: 0.6809\n",
      "Epoch 22/100\n",
      "4/4 [==============================] - 0s 40ms/step - loss: -3.7237 - accuracy: 0.7097 - val_loss: -4.6963 - val_accuracy: 0.6809\n",
      "Epoch 23/100\n",
      "4/4 [==============================] - 0s 38ms/step - loss: -4.2867 - accuracy: 0.7097 - val_loss: -5.3470 - val_accuracy: 0.6809\n",
      "Epoch 24/100\n",
      "4/4 [==============================] - 0s 40ms/step - loss: -4.8693 - accuracy: 0.7097 - val_loss: -6.0910 - val_accuracy: 0.6809\n",
      "Epoch 25/100\n",
      "4/4 [==============================] - 0s 39ms/step - loss: -5.5717 - accuracy: 0.7097 - val_loss: -6.9195 - val_accuracy: 0.6809\n",
      "Epoch 26/100\n",
      "4/4 [==============================] - 0s 39ms/step - loss: -6.3347 - accuracy: 0.7097 - val_loss: -7.8453 - val_accuracy: 0.6809\n",
      "Epoch 27/100\n",
      "4/4 [==============================] - 0s 36ms/step - loss: -7.1847 - accuracy: 0.7097 - val_loss: -8.8749 - val_accuracy: 0.6809\n",
      "Epoch 28/100\n",
      "4/4 [==============================] - 0s 44ms/step - loss: -8.1148 - accuracy: 0.7097 - val_loss: -10.0248 - val_accuracy: 0.6809\n",
      "Epoch 29/100\n",
      "4/4 [==============================] - 0s 40ms/step - loss: -9.1688 - accuracy: 0.7097 - val_loss: -11.2942 - val_accuracy: 0.6809\n",
      "Epoch 30/100\n",
      "4/4 [==============================] - 0s 38ms/step - loss: -10.3431 - accuracy: 0.7097 - val_loss: -12.6927 - val_accuracy: 0.6809\n",
      "Epoch 31/100\n",
      "4/4 [==============================] - 0s 36ms/step - loss: -11.7048 - accuracy: 0.7097 - val_loss: -14.2071 - val_accuracy: 0.6809\n",
      "Epoch 32/100\n",
      "4/4 [==============================] - 0s 43ms/step - loss: -13.0716 - accuracy: 0.7097 - val_loss: -15.8910 - val_accuracy: 0.6809\n",
      "Epoch 33/100\n",
      "4/4 [==============================] - 0s 41ms/step - loss: -14.6094 - accuracy: 0.7097 - val_loss: -17.7394 - val_accuracy: 0.6809\n",
      "Epoch 34/100\n",
      "4/4 [==============================] - 0s 31ms/step - loss: -16.3172 - accuracy: 0.7097 - val_loss: -19.7503 - val_accuracy: 0.6809\n",
      "Epoch 35/100\n",
      "4/4 [==============================] - 0s 30ms/step - loss: -18.2384 - accuracy: 0.7097 - val_loss: -21.9239 - val_accuracy: 0.6809\n",
      "Epoch 36/100\n",
      "4/4 [==============================] - 0s 42ms/step - loss: -20.2465 - accuracy: 0.7097 - val_loss: -24.2989 - val_accuracy: 0.6809\n",
      "Epoch 37/100\n",
      "4/4 [==============================] - 0s 39ms/step - loss: -22.4505 - accuracy: 0.7097 - val_loss: -26.8607 - val_accuracy: 0.6809\n",
      "Epoch 38/100\n",
      "4/4 [==============================] - 0s 35ms/step - loss: -24.8843 - accuracy: 0.7097 - val_loss: -29.6254 - val_accuracy: 0.6809\n",
      "Epoch 39/100\n",
      "4/4 [==============================] - 0s 40ms/step - loss: -27.4655 - accuracy: 0.7097 - val_loss: -32.6033 - val_accuracy: 0.6809\n",
      "Epoch 40/100\n",
      "4/4 [==============================] - 0s 39ms/step - loss: -30.3157 - accuracy: 0.7097 - val_loss: -35.7829 - val_accuracy: 0.6809\n",
      "Epoch 41/100\n",
      "4/4 [==============================] - 0s 38ms/step - loss: -33.1529 - accuracy: 0.7097 - val_loss: -39.2332 - val_accuracy: 0.6809\n",
      "Epoch 42/100\n",
      "4/4 [==============================] - 0s 40ms/step - loss: -36.3102 - accuracy: 0.7097 - val_loss: -42.9130 - val_accuracy: 0.6809\n",
      "Epoch 43/100\n",
      "4/4 [==============================] - 0s 43ms/step - loss: -39.8138 - accuracy: 0.7097 - val_loss: -46.8094 - val_accuracy: 0.6809\n",
      "Epoch 44/100\n",
      "4/4 [==============================] - 0s 43ms/step - loss: -43.3065 - accuracy: 0.7097 - val_loss: -50.9788 - val_accuracy: 0.6809\n",
      "Epoch 45/100\n",
      "4/4 [==============================] - 0s 38ms/step - loss: -47.3210 - accuracy: 0.7097 - val_loss: -55.3451 - val_accuracy: 0.6809\n",
      "Epoch 46/100\n",
      "4/4 [==============================] - 0s 36ms/step - loss: -51.2759 - accuracy: 0.7097 - val_loss: -60.0313 - val_accuracy: 0.6809\n",
      "Epoch 47/100\n",
      "4/4 [==============================] - 0s 40ms/step - loss: -55.7975 - accuracy: 0.7097 - val_loss: -64.9423 - val_accuracy: 0.6809\n",
      "Epoch 48/100\n",
      "4/4 [==============================] - 0s 37ms/step - loss: -60.1893 - accuracy: 0.7097 - val_loss: -70.2077 - val_accuracy: 0.6809\n",
      "Epoch 49/100\n",
      "4/4 [==============================] - 0s 38ms/step - loss: -65.0021 - accuracy: 0.7097 - val_loss: -75.6819 - val_accuracy: 0.6809\n",
      "Epoch 50/100\n",
      "4/4 [==============================] - 0s 38ms/step - loss: -70.3822 - accuracy: 0.7097 - val_loss: -81.3205 - val_accuracy: 0.6809\n",
      "Epoch 51/100\n",
      "4/4 [==============================] - 0s 48ms/step - loss: -75.7767 - accuracy: 0.7097 - val_loss: -87.2447 - val_accuracy: 0.6809\n",
      "Epoch 52/100\n",
      "4/4 [==============================] - 0s 37ms/step - loss: -81.1349 - accuracy: 0.7097 - val_loss: -93.6430 - val_accuracy: 0.6809\n",
      "Epoch 53/100\n",
      "4/4 [==============================] - 0s 38ms/step - loss: -87.2145 - accuracy: 0.7097 - val_loss: -100.2981 - val_accuracy: 0.6809\n",
      "Epoch 54/100\n",
      "4/4 [==============================] - 0s 40ms/step - loss: -93.4691 - accuracy: 0.7097 - val_loss: -107.2984 - val_accuracy: 0.6809\n",
      "Epoch 55/100\n",
      "4/4 [==============================] - 0s 39ms/step - loss: -99.9178 - accuracy: 0.7097 - val_loss: -114.6442 - val_accuracy: 0.6809\n",
      "Epoch 56/100\n",
      "4/4 [==============================] - 0s 37ms/step - loss: -106.9510 - accuracy: 0.7097 - val_loss: -122.3006 - val_accuracy: 0.6809\n",
      "Epoch 57/100\n",
      "4/4 [==============================] - 0s 35ms/step - loss: -113.7393 - accuracy: 0.7097 - val_loss: -130.4188 - val_accuracy: 0.6809\n",
      "Epoch 58/100\n",
      "4/4 [==============================] - 0s 37ms/step - loss: -121.4886 - accuracy: 0.7097 - val_loss: -138.7457 - val_accuracy: 0.6809\n",
      "Epoch 59/100\n",
      "4/4 [==============================] - 0s 38ms/step - loss: -129.5245 - accuracy: 0.7097 - val_loss: -147.3695 - val_accuracy: 0.6809\n",
      "Epoch 60/100\n",
      "4/4 [==============================] - 0s 41ms/step - loss: -137.5605 - accuracy: 0.7097 - val_loss: -156.4393 - val_accuracy: 0.6809\n",
      "Epoch 61/100\n",
      "4/4 [==============================] - 0s 38ms/step - loss: -146.1505 - accuracy: 0.7097 - val_loss: -165.8929 - val_accuracy: 0.6809\n",
      "Epoch 62/100\n",
      "4/4 [==============================] - 0s 39ms/step - loss: -155.0385 - accuracy: 0.7097 - val_loss: -175.7282 - val_accuracy: 0.6809\n",
      "Epoch 63/100\n",
      "4/4 [==============================] - 0s 42ms/step - loss: -164.1774 - accuracy: 0.7097 - val_loss: -185.9474 - val_accuracy: 0.6809\n",
      "Epoch 64/100\n",
      "4/4 [==============================] - 0s 36ms/step - loss: -173.6695 - accuracy: 0.7097 - val_loss: -196.6189 - val_accuracy: 0.6809\n",
      "Epoch 65/100\n",
      "4/4 [==============================] - 0s 38ms/step - loss: -183.8732 - accuracy: 0.7097 - val_loss: -207.5498 - val_accuracy: 0.6809\n",
      "Epoch 66/100\n",
      "4/4 [==============================] - 0s 40ms/step - loss: -194.7492 - accuracy: 0.7097 - val_loss: -218.8063 - val_accuracy: 0.6809\n",
      "Epoch 67/100\n",
      "4/4 [==============================] - 0s 38ms/step - loss: -205.1968 - accuracy: 0.7097 - val_loss: -230.6709 - val_accuracy: 0.6809\n",
      "Epoch 68/100\n",
      "4/4 [==============================] - 0s 38ms/step - loss: -216.2259 - accuracy: 0.7097 - val_loss: -243.0301 - val_accuracy: 0.6809\n",
      "Epoch 69/100\n",
      "4/4 [==============================] - 0s 42ms/step - loss: -227.8206 - accuracy: 0.7097 - val_loss: -255.8353 - val_accuracy: 0.6809\n",
      "Epoch 70/100\n",
      "4/4 [==============================] - 0s 38ms/step - loss: -240.2128 - accuracy: 0.7097 - val_loss: -268.9817 - val_accuracy: 0.6809\n",
      "Epoch 71/100\n",
      "4/4 [==============================] - 0s 40ms/step - loss: -252.7184 - accuracy: 0.7097 - val_loss: -282.5231 - val_accuracy: 0.6809\n",
      "Epoch 72/100\n",
      "4/4 [==============================] - 0s 41ms/step - loss: -265.2506 - accuracy: 0.7097 - val_loss: -296.6447 - val_accuracy: 0.6809\n",
      "Epoch 73/100\n",
      "4/4 [==============================] - 0s 38ms/step - loss: -278.6181 - accuracy: 0.7097 - val_loss: -311.1906 - val_accuracy: 0.6809\n",
      "Epoch 74/100\n",
      "4/4 [==============================] - 0s 40ms/step - loss: -292.6794 - accuracy: 0.7097 - val_loss: -326.0983 - val_accuracy: 0.6809\n",
      "Epoch 75/100\n",
      "4/4 [==============================] - 0s 40ms/step - loss: -306.4670 - accuracy: 0.7097 - val_loss: -341.6517 - val_accuracy: 0.6809\n",
      "Epoch 76/100\n",
      "4/4 [==============================] - 0s 38ms/step - loss: -321.9071 - accuracy: 0.7097 - val_loss: -357.3778 - val_accuracy: 0.6809\n",
      "Epoch 77/100\n",
      "4/4 [==============================] - 0s 39ms/step - loss: -337.0095 - accuracy: 0.7097 - val_loss: -373.6449 - val_accuracy: 0.6809\n",
      "Epoch 78/100\n",
      "4/4 [==============================] - 0s 37ms/step - loss: -351.9908 - accuracy: 0.7097 - val_loss: -390.6452 - val_accuracy: 0.6809\n",
      "Epoch 79/100\n",
      "4/4 [==============================] - 0s 37ms/step - loss: -368.7484 - accuracy: 0.7097 - val_loss: -407.8845 - val_accuracy: 0.6809\n",
      "Epoch 80/100\n",
      "4/4 [==============================] - 0s 37ms/step - loss: -384.6461 - accuracy: 0.7097 - val_loss: -425.9111 - val_accuracy: 0.6809\n",
      "Epoch 81/100\n",
      "4/4 [==============================] - 0s 41ms/step - loss: -401.5297 - accuracy: 0.7097 - val_loss: -444.4232 - val_accuracy: 0.6809\n",
      "Epoch 82/100\n",
      "4/4 [==============================] - 0s 39ms/step - loss: -419.4157 - accuracy: 0.7097 - val_loss: -463.2929 - val_accuracy: 0.6809\n",
      "Epoch 83/100\n",
      "4/4 [==============================] - 0s 39ms/step - loss: -436.5400 - accuracy: 0.7097 - val_loss: -482.9147 - val_accuracy: 0.6809\n",
      "Epoch 84/100\n",
      "4/4 [==============================] - 0s 40ms/step - loss: -455.4714 - accuracy: 0.7097 - val_loss: -502.8234 - val_accuracy: 0.6809\n",
      "Epoch 85/100\n",
      "4/4 [==============================] - 0s 39ms/step - loss: -474.2669 - accuracy: 0.7097 - val_loss: -523.2650 - val_accuracy: 0.6809\n",
      "Epoch 86/100\n",
      "4/4 [==============================] - 0s 51ms/step - loss: -494.3124 - accuracy: 0.7097 - val_loss: -543.9850 - val_accuracy: 0.6809\n",
      "Epoch 87/100\n",
      "4/4 [==============================] - 0s 40ms/step - loss: -513.9677 - accuracy: 0.7097 - val_loss: -565.5323 - val_accuracy: 0.6809\n",
      "Epoch 88/100\n",
      "4/4 [==============================] - 0s 44ms/step - loss: -534.4921 - accuracy: 0.7097 - val_loss: -587.5117 - val_accuracy: 0.6809\n",
      "Epoch 89/100\n",
      "4/4 [==============================] - 0s 45ms/step - loss: -555.0554 - accuracy: 0.7097 - val_loss: -610.0566 - val_accuracy: 0.6809\n",
      "Epoch 90/100\n",
      "4/4 [==============================] - 0s 38ms/step - loss: -577.0229 - accuracy: 0.7097 - val_loss: -633.0429 - val_accuracy: 0.6809\n",
      "Epoch 91/100\n",
      "4/4 [==============================] - 0s 36ms/step - loss: -598.4360 - accuracy: 0.7097 - val_loss: -656.8619 - val_accuracy: 0.6809\n",
      "Epoch 92/100\n",
      "4/4 [==============================] - 0s 37ms/step - loss: -622.6480 - accuracy: 0.7097 - val_loss: -680.7999 - val_accuracy: 0.6809\n",
      "Epoch 93/100\n",
      "4/4 [==============================] - 0s 40ms/step - loss: -644.2964 - accuracy: 0.7097 - val_loss: -706.0038 - val_accuracy: 0.6809\n",
      "Epoch 94/100\n",
      "4/4 [==============================] - 0s 39ms/step - loss: -669.1177 - accuracy: 0.7097 - val_loss: -731.4645 - val_accuracy: 0.6809\n",
      "Epoch 95/100\n",
      "4/4 [==============================] - 0s 37ms/step - loss: -693.5286 - accuracy: 0.7097 - val_loss: -757.6296 - val_accuracy: 0.6809\n",
      "Epoch 96/100\n",
      "4/4 [==============================] - 0s 35ms/step - loss: -717.9043 - accuracy: 0.7097 - val_loss: -784.6137 - val_accuracy: 0.6809\n",
      "Epoch 97/100\n",
      "4/4 [==============================] - 0s 35ms/step - loss: -743.4295 - accuracy: 0.7097 - val_loss: -812.1178 - val_accuracy: 0.6809\n",
      "Epoch 98/100\n",
      "4/4 [==============================] - 0s 41ms/step - loss: -769.2062 - accuracy: 0.7097 - val_loss: -840.2428 - val_accuracy: 0.6809\n",
      "Epoch 99/100\n",
      "4/4 [==============================] - 0s 37ms/step - loss: -798.0419 - accuracy: 0.7097 - val_loss: -868.3099 - val_accuracy: 0.6809\n",
      "Epoch 100/100\n",
      "4/4 [==============================] - 0s 35ms/step - loss: -824.5608 - accuracy: 0.7097 - val_loss: -897.3958 - val_accuracy: 0.6809\n"
     ]
    }
   ],
   "source": [
    "classifier=Sequential()\n",
    "classifier.add(Dense(units=100,activation='relu',input_dim=10))\n",
    "classifier.add(Dense(units=50,activation='relu'))\n",
    "classifier.add(Dense(units=1,activation='sigmoid'))\n",
    "classifier.compile(optimizer='adam',loss='binary_crossentropy',metrics=['accuracy'])\n",
    "model_history=classifier.fit(X_train,y_train,batch_size=100,validation_split=0.2,epochs=100)"
   ]
  },
  {
   "cell_type": "code",
   "execution_count": 27,
   "id": "5e5386d2",
   "metadata": {},
   "outputs": [
    {
     "name": "stderr",
     "output_type": "stream",
     "text": [
      "C:\\Users\\DEVIL\\anaconda3\\lib\\site-packages\\sklearn\\base.py:450: UserWarning: X does not have valid feature names, but DecisionTreeClassifier was fitted with feature names\n",
      "  warnings.warn(\n"
     ]
    },
    {
     "data": {
      "text/plain": [
       "array([2], dtype=int64)"
      ]
     },
     "execution_count": 27,
     "metadata": {},
     "output_type": "execute_result"
    }
   ],
   "source": [
    "model4.predict([[50,1,1.2,0.8,150,70,80,7.2,3.4,0.8]])"
   ]
  },
  {
   "cell_type": "code",
   "execution_count": 28,
   "id": "6714c280",
   "metadata": {},
   "outputs": [
    {
     "name": "stderr",
     "output_type": "stream",
     "text": [
      "C:\\Users\\DEVIL\\anaconda3\\lib\\site-packages\\sklearn\\base.py:450: UserWarning: X does not have valid feature names, but RandomForestClassifier was fitted with feature names\n",
      "  warnings.warn(\n"
     ]
    },
    {
     "data": {
      "text/plain": [
       "array([1], dtype=int64)"
      ]
     },
     "execution_count": 28,
     "metadata": {},
     "output_type": "execute_result"
    }
   ],
   "source": [
    "model1.predict([[50,1,1.2,0.8,150,70,80,7.2,3.4,0.8]])"
   ]
  },
  {
   "cell_type": "code",
   "execution_count": 29,
   "id": "421ce451",
   "metadata": {},
   "outputs": [],
   "source": [
    "classifier.save(\"liver.h5\")"
   ]
  },
  {
   "cell_type": "code",
   "execution_count": 30,
   "id": "b03d239a",
   "metadata": {},
   "outputs": [
    {
     "name": "stdout",
     "output_type": "stream",
     "text": [
      "4/4 [==============================] - 0s 5ms/step\n"
     ]
    }
   ],
   "source": [
    "y_pred = classifier.predict(X_test)"
   ]
  },
  {
   "cell_type": "code",
   "execution_count": 31,
   "id": "4b57f055",
   "metadata": {},
   "outputs": [
    {
     "data": {
      "text/plain": [
       "array([[ True],\n",
       "       [ True],\n",
       "       [ True],\n",
       "       [ True],\n",
       "       [ True],\n",
       "       [ True],\n",
       "       [ True],\n",
       "       [ True],\n",
       "       [ True],\n",
       "       [ True],\n",
       "       [ True],\n",
       "       [ True],\n",
       "       [ True],\n",
       "       [ True],\n",
       "       [ True],\n",
       "       [ True],\n",
       "       [ True],\n",
       "       [ True],\n",
       "       [ True],\n",
       "       [ True],\n",
       "       [ True],\n",
       "       [ True],\n",
       "       [ True],\n",
       "       [ True],\n",
       "       [ True],\n",
       "       [ True],\n",
       "       [ True],\n",
       "       [ True],\n",
       "       [ True],\n",
       "       [ True],\n",
       "       [ True],\n",
       "       [ True],\n",
       "       [ True],\n",
       "       [ True],\n",
       "       [ True],\n",
       "       [ True],\n",
       "       [ True],\n",
       "       [ True],\n",
       "       [ True],\n",
       "       [ True],\n",
       "       [ True],\n",
       "       [ True],\n",
       "       [ True],\n",
       "       [ True],\n",
       "       [ True],\n",
       "       [ True],\n",
       "       [ True],\n",
       "       [ True],\n",
       "       [ True],\n",
       "       [ True],\n",
       "       [ True],\n",
       "       [ True],\n",
       "       [ True],\n",
       "       [ True],\n",
       "       [ True],\n",
       "       [ True],\n",
       "       [ True],\n",
       "       [ True],\n",
       "       [ True],\n",
       "       [ True],\n",
       "       [ True],\n",
       "       [ True],\n",
       "       [ True],\n",
       "       [ True],\n",
       "       [ True],\n",
       "       [ True],\n",
       "       [ True],\n",
       "       [ True],\n",
       "       [ True],\n",
       "       [ True],\n",
       "       [ True],\n",
       "       [ True],\n",
       "       [ True],\n",
       "       [ True],\n",
       "       [ True],\n",
       "       [ True],\n",
       "       [ True],\n",
       "       [ True],\n",
       "       [ True],\n",
       "       [ True],\n",
       "       [ True],\n",
       "       [ True],\n",
       "       [ True],\n",
       "       [ True],\n",
       "       [ True],\n",
       "       [ True],\n",
       "       [ True],\n",
       "       [ True],\n",
       "       [ True],\n",
       "       [ True],\n",
       "       [ True],\n",
       "       [ True],\n",
       "       [ True],\n",
       "       [ True],\n",
       "       [ True],\n",
       "       [ True],\n",
       "       [ True],\n",
       "       [ True],\n",
       "       [ True],\n",
       "       [ True],\n",
       "       [ True],\n",
       "       [ True],\n",
       "       [ True],\n",
       "       [ True],\n",
       "       [ True],\n",
       "       [ True],\n",
       "       [ True],\n",
       "       [ True],\n",
       "       [ True],\n",
       "       [ True],\n",
       "       [ True],\n",
       "       [ True],\n",
       "       [ True],\n",
       "       [ True],\n",
       "       [ True],\n",
       "       [ True],\n",
       "       [ True]])"
      ]
     },
     "execution_count": 31,
     "metadata": {},
     "output_type": "execute_result"
    }
   ],
   "source": [
    "y_pred\n",
    "y_pred = (y_pred > 0.5)\n",
    "y_pred"
   ]
  },
  {
   "cell_type": "code",
   "execution_count": 32,
   "id": "d592d39e",
   "metadata": {},
   "outputs": [],
   "source": [
    "def predict_exit(sample_value):\n",
    "    sample_value=np.array(sample_value)\n",
    "    sample_value=sample_value.reshape(1,-1)\n",
    "    sample_value=scale(sample_value)\n",
    "    \n",
    "    return classifier.predict(sample_value)"
   ]
  },
  {
   "cell_type": "code",
   "execution_count": 33,
   "id": "ca3d1778",
   "metadata": {},
   "outputs": [
    {
     "name": "stdout",
     "output_type": "stream",
     "text": [
      "1/1 [==============================] - 0s 184ms/step\n",
      "Prediction: Liver Patient\n"
     ]
    }
   ],
   "source": [
    "sample_value=[[50,1,1.2,0.8,150,70,80,7.2,3.4,0.8]]\n",
    "if predict_exit(sample_value)>0.5:\n",
    "    print('Prediction: Liver Patient')\n",
    "else:\n",
    "    print('Prediction: Healthy')"
   ]
  },
  {
   "cell_type": "code",
   "execution_count": 34,
   "id": "60836e38",
   "metadata": {},
   "outputs": [
    {
     "data": {
      "text/html": [
       "<div>\n",
       "<style scoped>\n",
       "    .dataframe tbody tr th:only-of-type {\n",
       "        vertical-align: middle;\n",
       "    }\n",
       "\n",
       "    .dataframe tbody tr th {\n",
       "        vertical-align: top;\n",
       "    }\n",
       "\n",
       "    .dataframe thead th {\n",
       "        text-align: right;\n",
       "    }\n",
       "</style>\n",
       "<table border=\"1\" class=\"dataframe\">\n",
       "  <thead>\n",
       "    <tr style=\"text-align: right;\">\n",
       "      <th></th>\n",
       "      <th>classification models</th>\n",
       "      <th>accuracy_score</th>\n",
       "    </tr>\n",
       "  </thead>\n",
       "  <tbody>\n",
       "    <tr>\n",
       "      <th>0</th>\n",
       "      <td>KNN Classifier</td>\n",
       "      <td>0.581197</td>\n",
       "    </tr>\n",
       "    <tr>\n",
       "      <th>1</th>\n",
       "      <td>RandomForestClassifier</td>\n",
       "      <td>0.675214</td>\n",
       "    </tr>\n",
       "    <tr>\n",
       "      <th>2</th>\n",
       "      <td>DecisionTreeClassifier</td>\n",
       "      <td>0.615385</td>\n",
       "    </tr>\n",
       "    <tr>\n",
       "      <th>3</th>\n",
       "      <td>LoisticRegression</td>\n",
       "      <td>0.606838</td>\n",
       "    </tr>\n",
       "  </tbody>\n",
       "</table>\n",
       "</div>"
      ],
      "text/plain": [
       "    classification models  accuracy_score\n",
       "0          KNN Classifier        0.581197\n",
       "1  RandomForestClassifier        0.675214\n",
       "2  DecisionTreeClassifier        0.615385\n",
       "3       LoisticRegression        0.606838"
      ]
     },
     "execution_count": 34,
     "metadata": {},
     "output_type": "execute_result"
    }
   ],
   "source": [
    "acc_smote=[['KNN Classifier',knn1],['RandomForestClassifier',rfc1],['DecisionTreeClassifier',dtc1],['LoisticRegression',logi1]]\n",
    "Liverpatient_pred=pd.DataFrame(acc_smote,columns=['classification models','accuracy_score'])\n",
    "Liverpatient_pred"
   ]
  },
  {
   "cell_type": "code",
   "execution_count": 35,
   "id": "dcad50cc",
   "metadata": {},
   "outputs": [
    {
     "data": {
      "text/plain": [
       "<AxesSubplot:title={'center':'Classification models & accuracy scores after SMOTE'}, xlabel='classification models', ylabel='accuracy_score'>"
      ]
     },
     "execution_count": 35,
     "metadata": {},
     "output_type": "execute_result"
    },
    {
     "data": {
      "image/png": "[encoded data removed]",
      "text/plain": [
       "<Figure size 700x500 with 1 Axes>"
      ]
     },
     "metadata": {},
     "output_type": "display_data"
    }
   ],
   "source": [
    "plt.figure(figsize=(7,5))\n",
    "plt.xticks(rotation=90)\n",
    "plt.title('Classification models & accuracy scores after SMOTE',fontsize=18)\n",
    "sns.barplot(x=\"classification models\",y=\"accuracy_score\", data=Liverpatient_pred,palette=\"Set2\")"
   ]
  },
  {
   "cell_type": "code",
   "execution_count": 36,
   "id": "5733dbf5",
   "metadata": {},
   "outputs": [
    {
     "data": {
      "text/plain": [
       "ExtraTreesClassifier()"
      ]
     },
     "execution_count": 36,
     "metadata": {},
     "output_type": "execute_result"
    }
   ],
   "source": [
    "from sklearn.ensemble import ExtraTreesClassifier\n",
    "model=ExtraTreesClassifier()\n",
    "model.fit(X,y)"
   ]
  },
  {
   "cell_type": "code",
   "execution_count": 37,
   "id": "290ee463",
   "metadata": {},
   "outputs": [
    {
     "data": {
      "text/plain": [
       "array([0.12026859, 0.024727  , 0.10979189, 0.10245196, 0.11654257,\n",
       "       0.11399954, 0.11870815, 0.09126762, 0.1023186 , 0.09992409])"
      ]
     },
     "execution_count": 37,
     "metadata": {},
     "output_type": "execute_result"
    }
   ],
   "source": [
    "model.feature_importances_"
   ]
  },
  {
   "cell_type": "code",
   "execution_count": 38,
   "id": "0f32426c",
   "metadata": {},
   "outputs": [
    {
     "data": {
      "text/html": [
       "<div>\n",
       "<style scoped>\n",
       "    .dataframe tbody tr th:only-of-type {\n",
       "        vertical-align: middle;\n",
       "    }\n",
       "\n",
       "    .dataframe tbody tr th {\n",
       "        vertical-align: top;\n",
       "    }\n",
       "\n",
       "    .dataframe thead th {\n",
       "        text-align: right;\n",
       "    }\n",
       "</style>\n",
       "<table border=\"1\" class=\"dataframe\">\n",
       "  <thead>\n",
       "    <tr style=\"text-align: right;\">\n",
       "      <th></th>\n",
       "      <th>0</th>\n",
       "    </tr>\n",
       "  </thead>\n",
       "  <tbody>\n",
       "    <tr>\n",
       "      <th>Age</th>\n",
       "      <td>0.120269</td>\n",
       "    </tr>\n",
       "    <tr>\n",
       "      <th>Aspartate_Aminotransferase</th>\n",
       "      <td>0.118708</td>\n",
       "    </tr>\n",
       "    <tr>\n",
       "      <th>Alkaline_Phosphotase</th>\n",
       "      <td>0.116543</td>\n",
       "    </tr>\n",
       "    <tr>\n",
       "      <th>Alamine_Aminotransferase</th>\n",
       "      <td>0.114000</td>\n",
       "    </tr>\n",
       "    <tr>\n",
       "      <th>Total_Bilirubin</th>\n",
       "      <td>0.109792</td>\n",
       "    </tr>\n",
       "    <tr>\n",
       "      <th>Direct_Bilirubin</th>\n",
       "      <td>0.102452</td>\n",
       "    </tr>\n",
       "    <tr>\n",
       "      <th>Albumin</th>\n",
       "      <td>0.102319</td>\n",
       "    </tr>\n",
       "    <tr>\n",
       "      <th>Albumin_and_Globulin_Ratio</th>\n",
       "      <td>0.099924</td>\n",
       "    </tr>\n",
       "    <tr>\n",
       "      <th>Total_Protiens</th>\n",
       "      <td>0.091268</td>\n",
       "    </tr>\n",
       "    <tr>\n",
       "      <th>Gender</th>\n",
       "      <td>0.024727</td>\n",
       "    </tr>\n",
       "  </tbody>\n",
       "</table>\n",
       "</div>"
      ],
      "text/plain": [
       "                                   0\n",
       "Age                         0.120269\n",
       "Aspartate_Aminotransferase  0.118708\n",
       "Alkaline_Phosphotase        0.116543\n",
       "Alamine_Aminotransferase    0.114000\n",
       "Total_Bilirubin             0.109792\n",
       "Direct_Bilirubin            0.102452\n",
       "Albumin                     0.102319\n",
       "Albumin_and_Globulin_Ratio  0.099924\n",
       "Total_Protiens              0.091268\n",
       "Gender                      0.024727"
      ]
     },
     "execution_count": 38,
     "metadata": {},
     "output_type": "execute_result"
    }
   ],
   "source": [
    "dd=pd.DataFrame(model.feature_importances_,index=X.columns).sort_values(0,ascending=False)\n",
    "dd"
   ]
  },
  {
   "cell_type": "code",
   "execution_count": 39,
   "id": "44084033",
   "metadata": {},
   "outputs": [
    {
     "data": {
      "text/plain": [
       "Text(0.5, 1.0, 'FEATURE IMPORTANCE')"
      ]
     },
     "execution_count": 39,
     "metadata": {},
     "output_type": "execute_result"
    },
    {
     "data": {
      "image/png": "[encoded data removed]",
      "text/plain": [
       "<Figure size 700x600 with 1 Axes>"
      ]
     },
     "metadata": {},
     "output_type": "display_data"
    }
   ],
   "source": [
    "dd.plot(kind='barh',figsize=(7,6))\n",
    "plt.title(\"FEATURE IMPORTANCE\",fontsize=14)"
   ]
  },
  {
   "cell_type": "code",
   "execution_count": 40,
   "id": "9a34ade5",
   "metadata": {},
   "outputs": [
    {
     "data": {
      "text/plain": [
       "['ETC.pkl']"
      ]
     },
     "execution_count": 40,
     "metadata": {},
     "output_type": "execute_result"
    }
   ],
   "source": [
    "import joblib\n",
    "joblib.dump(model1,'ETC.pkl')"
   ]
  }
 ],
 "metadata": {
  "kernelspec": {
   "display_name": "Python 3 (ipykernel)",
   "language": "python",
   "name": "python3"
  },
  "language_info": {
   "codemirror_mode": {
    "name": "ipython",
    "version": 3
   },
   "file_extension": ".py",
   "mimetype": "text/x-python",
   "name": "python",
   "nbconvert_exporter": "python",
   "pygments_lexer": "ipython3",
   "version": "3.9.13"
  }
 },
 "nbformat": 4,
 "nbformat_minor": 5
}
